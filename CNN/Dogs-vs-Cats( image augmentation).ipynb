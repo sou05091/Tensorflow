{
 "cells": [
  {
   "cell_type": "code",
   "execution_count": 1,
   "metadata": {},
   "outputs": [
    {
     "name": "stdout",
     "output_type": "stream",
     "text": [
      "Found 25000 files belonging to 2 classes.\n",
      "Using 20000 files for training.\n",
      "Found 25000 files belonging to 2 classes.\n",
      "Using 5000 files for validation.\n",
      "<_BatchDataset element_spec=(TensorSpec(shape=(None, 64, 64, 3), dtype=tf.float32, name=None), TensorSpec(shape=(None,), dtype=tf.int32, name=None))>\n"
     ]
    }
   ],
   "source": [
    "# unicode 오류 원인 = 파일 이름이 한국어로 되어 있어서 !!!!!!\n",
    "\n",
    "import tensorflow as tf\n",
    "#이미지 데이터셋 생성 (숫자화)\n",
    "train_ds = tf.keras.preprocessing.image_dataset_from_directory(\n",
    "    './dataset/',\n",
    "     # 이미지 사이즈를 64크기로 맞춰준다\n",
    "     image_size=(64,64),\n",
    "     # 이미지 2만개를 다 넣지않고 batch숫자만큼 넣는다\n",
    "     batch_size=64,\n",
    "     # 검사\n",
    "     subset = 'training',\n",
    "     # 데이터를 20% 쪼갠다\n",
    "     validation_split=0.2,\n",
    "     seed=1234\n",
    ")\n",
    "# training = 80%, validation = 20% \n",
    "val_ds = tf.keras.preprocessing.image_dataset_from_directory(\n",
    "    './dataset/',\n",
    "     # 이미지 사이즈를 64크기로 맞춰준다\n",
    "     image_size=(64,64),\n",
    "     # 이미지 2만개를 다 넣지않고 batch숫자만큼 넣는다\n",
    "     batch_size=64,\n",
    "     # 검사\n",
    "     subset = 'validation',\n",
    "     # 데이터를 20% 쪼갠다\n",
    "     validation_split=0.2,\n",
    "     seed=1234\n",
    ")\n",
    "print(train_ds)\n",
    "\n",
    "# 0~1값으로 압축\n",
    "def preprocessing(i, answer):\n",
    "    i = tf.cast(i/255.0, tf.float32)\n",
    "    return i, answer\n",
    "\n",
    "# map은 모든 데이터에 함수를 적용\n",
    "train_ds = train_ds.map(preprocessing)\n",
    "val_ds = val_ds.map(preprocessing)"
   ]
  },
  {
   "cell_type": "code",
   "execution_count": 2,
   "metadata": {},
   "outputs": [
    {
     "name": "stdout",
     "output_type": "stream",
     "text": [
      "Model: \"sequential\"\n",
      "_________________________________________________________________\n",
      " Layer (type)                Output Shape              Param #   \n",
      "=================================================================\n",
      " random_flip (RandomFlip)    (None, 64, 64, 3)         0         \n",
      "                                                                 \n",
      " random_rotation (RandomRot  (None, 64, 64, 3)         0         \n",
      " ation)                                                          \n",
      "                                                                 \n",
      " random_zoom (RandomZoom)    (None, 64, 64, 3)         0         \n",
      "                                                                 \n",
      " conv2d (Conv2D)             (None, 64, 64, 32)        896       \n",
      "                                                                 \n",
      " max_pooling2d (MaxPooling2  (None, 32, 32, 32)        0         \n",
      " D)                                                              \n",
      "                                                                 \n",
      " conv2d_1 (Conv2D)           (None, 32, 32, 64)        18496     \n",
      "                                                                 \n",
      " max_pooling2d_1 (MaxPoolin  (None, 16, 16, 64)        0         \n",
      " g2D)                                                            \n",
      "                                                                 \n",
      " dropout (Dropout)           (None, 16, 16, 64)        0         \n",
      "                                                                 \n",
      " conv2d_2 (Conv2D)           (None, 16, 16, 128)       73856     \n",
      "                                                                 \n",
      " max_pooling2d_2 (MaxPoolin  (None, 8, 8, 128)         0         \n",
      " g2D)                                                            \n",
      "                                                                 \n",
      " flatten (Flatten)           (None, 8192)              0         \n",
      "                                                                 \n",
      " dense (Dense)               (None, 128)               1048704   \n",
      "                                                                 \n",
      " dense_1 (Dense)             (None, 1)                 129       \n",
      "                                                                 \n",
      "=================================================================\n",
      "Total params: 1142081 (4.36 MB)\n",
      "Trainable params: 1142081 (4.36 MB)\n",
      "Non-trainable params: 0 (0.00 Byte)\n",
      "_________________________________________________________________\n",
      "Epoch 1/5\n",
      "313/313 [==============================] - 40s 126ms/step - loss: 0.6464 - accuracy: 0.6127 - val_loss: 0.6233 - val_accuracy: 0.6634\n",
      "Epoch 2/5\n",
      "313/313 [==============================] - 39s 126ms/step - loss: 0.5604 - accuracy: 0.7097 - val_loss: 0.6003 - val_accuracy: 0.6880\n",
      "Epoch 3/5\n",
      "313/313 [==============================] - 39s 126ms/step - loss: 0.5182 - accuracy: 0.7406 - val_loss: 0.6507 - val_accuracy: 0.7090\n",
      "Epoch 4/5\n",
      "313/313 [==============================] - 39s 126ms/step - loss: 0.4925 - accuracy: 0.7595 - val_loss: 0.5076 - val_accuracy: 0.7562\n",
      "Epoch 5/5\n",
      "313/313 [==============================] - 40s 127ms/step - loss: 0.4646 - accuracy: 0.7787 - val_loss: 0.4569 - val_accuracy: 0.7804\n"
     ]
    },
    {
     "data": {
      "text/plain": [
       "<keras.src.callbacks.History at 0x2e64a414970>"
      ]
     },
     "execution_count": 2,
     "metadata": {},
     "output_type": "execute_result"
    }
   ],
   "source": [
    "# 이전 model 재활용\n",
    "model = tf.keras.Sequential([\n",
    "    # (사진 뒤집기)\n",
    "    # epochs동안 여러 다른 각도 사진 학습\n",
    "    tf.keras.layers.experimental.preprocessing.RandomFlip('horizontal', input_shape = (64,64,3)),\n",
    "    tf.keras.layers.experimental.preprocessing.RandomRotation(0.1),\n",
    "    tf.keras.layers.experimental.preprocessing.RandomZoom(0.1),\n",
    "\n",
    "    tf.keras.layers.Conv2D(32,(3,3), padding=\"same\", activation=\"relu\"), # 컬러 사진이기 때문에 1 -> 3 으로 수정\n",
    "    tf.keras.layers.MaxPooling2D((2,2)),\n",
    "    tf.keras.layers.Conv2D(64,(3,3), padding=\"same\", activation=\"relu\"), # 컬러 사진이기 때문에 1 -> 3 으로 수정\n",
    "    tf.keras.layers.MaxPooling2D((2,2)),\n",
    "    tf.keras.layers.Dropout(0.2),\n",
    "    tf.keras.layers.Conv2D(128,(3,3), padding=\"same\", activation=\"relu\"), # 컬러 사진이기 때문에 1 -> 3 으로 수정\n",
    "    tf.keras.layers.MaxPooling2D((2,2)),\n",
    "    tf.keras.layers.Flatten(),\n",
    "    tf.keras.layers.Dense(128, activation=\"relu\"),\n",
    "    tf.keras.layers.Dense(1, activation=\"sigmoid\"),\n",
    "])\n",
    "\n",
    "# 모델 아웃라인 출력하기\n",
    "model.summary()\n",
    "model.compile(loss=\"binary_crossentropy\", optimizer=\"adam\", metrics=['accuracy'])\n",
    "# validation_data= epoch1회 끝날때 마다 채점해준다.\n",
    "model.fit(train_ds, validation_data = val_ds,epochs=5)"
   ]
  },
  {
   "cell_type": "code",
   "execution_count": null,
   "metadata": {},
   "outputs": [],
   "source": [
    "# 실험 자동화"
   ]
  }
 ],
 "metadata": {
  "kernelspec": {
   "display_name": "Python 3",
   "language": "python",
   "name": "python3"
  },
  "language_info": {
   "codemirror_mode": {
    "name": "ipython",
    "version": 3
   },
   "file_extension": ".py",
   "mimetype": "text/x-python",
   "name": "python",
   "nbconvert_exporter": "python",
   "pygments_lexer": "ipython3",
   "version": "3.9.0"
  },
  "orig_nbformat": 4
 },
 "nbformat": 4,
 "nbformat_minor": 2
}
