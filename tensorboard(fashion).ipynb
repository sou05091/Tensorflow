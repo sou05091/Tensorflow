{
 "cells": [
  {
   "cell_type": "code",
   "execution_count": 1,
   "metadata": {},
   "outputs": [
    {
     "name": "stdout",
     "output_type": "stream",
     "text": [
      "Model: \"sequential\"\n",
      "_________________________________________________________________\n",
      " Layer (type)                Output Shape              Param #   \n",
      "=================================================================\n",
      " conv2d (Conv2D)             (None, 28, 28, 32)        320       \n",
      "                                                                 \n",
      " max_pooling2d (MaxPooling2  (None, 14, 14, 32)        0         \n",
      " D)                                                              \n",
      "                                                                 \n",
      " flatten (Flatten)           (None, 6272)              0         \n",
      "                                                                 \n",
      " dense (Dense)               (None, 64)                401472    \n",
      "                                                                 \n",
      " dense_1 (Dense)             (None, 10)                650       \n",
      "                                                                 \n",
      "=================================================================\n",
      "Total params: 402442 (1.54 MB)\n",
      "Trainable params: 402442 (1.54 MB)\n",
      "Non-trainable params: 0 (0.00 Byte)\n",
      "_________________________________________________________________\n"
     ]
    }
   ],
   "source": [
    "# fashion모델 사용\n",
    "import tensorflow as tf\n",
    "import matplotlib.pyplot as plt\n",
    "import numpy as np\n",
    "\n",
    "# 데이터 불러오기\n",
    "(trainX, trainY),(testX, testY) = tf.keras.datasets.fashion_mnist.load_data()\n",
    "#print(testX[0])\n",
    "#print(testX.shape)\n",
    "#print(trainY)\n",
    "\n",
    "# 0~255숫자를 0~1숫자로 미리 압축\n",
    "# 결과가 좋게 나올수도 있고 처리 시간도 단축된다\n",
    "trainX = trainX/255.0\n",
    "testX = testX/255.0\n",
    "\n",
    "# 4dim으로 만들어주기 위해 변경\n",
    "# (trainX.shape[0],28,28) -> (trainX.shape[0],28,28,1) 이렇게 변경\n",
    "trainX = trainX.reshape((trainX.shape[0],28,28,1))\n",
    "testX = testX.reshape((testX.shape[0],28,28,1))\n",
    "\n",
    "# 이미지 보는법\n",
    "#plt.imshow(testX[1])\n",
    "#plt.gray()\n",
    "#plt.colorbar()\n",
    "#plt.show()\n",
    "\n",
    "class_names = ['T-shirt/top','Trouser','Pullover','Dress','Coat','Sandal','Shirt','Sneaker','Bag','Ankle','boot']\n",
    "\n",
    "model = tf.keras.Sequential([\n",
    "    tf.keras.layers.Conv2D(32,(3,3), padding=\"same\", activation=\"relu\", input_shape = (28,28,1)),\n",
    "    tf.keras.layers.MaxPooling2D((2,2)),\n",
    "    tf.keras.layers.Flatten(),\n",
    "    tf.keras.layers.Dense(64, activation=\"relu\"),\n",
    "    tf.keras.layers.Dense(10, activation=\"softmax\"),\n",
    "])\n",
    "\n",
    "# 모델 아웃라인 출력하기\n",
    "model.summary()\n",
    "\n",
    "# sparse_categorical_crossentropy = 카테고리 예측사용에 사용\n",
    "# 원 핫 인코딩이 되어있을때 categorical_crossentropy사용, 정수로 되어있을때 sparse_categorical_crossentropy사용 \n",
    "\n",
    "model.compile(loss=\"sparse_categorical_crossentropy\", optimizer=\"adam\", metrics=['accuracy'])\n",
    "# validation_data= epoch1회 끝날때 마다 채점해준다.\n",
    "#model.fit(trainX, trainY, validation_data=(testX, testY),epochs=5)"
   ]
  },
  {
   "cell_type": "code",
   "execution_count": 2,
   "metadata": {},
   "outputs": [],
   "source": [
    "import time\n",
    "\n",
    "timestamp = int(time.time())\n"
   ]
  },
  {
   "cell_type": "code",
   "execution_count": 3,
   "metadata": {},
   "outputs": [
    {
     "name": "stdout",
     "output_type": "stream",
     "text": [
      "Epoch 1/3\n",
      "1875/1875 [==============================] - 11s 6ms/step - loss: 0.4043 - accuracy: 0.8583 - val_loss: 0.3127 - val_accuracy: 0.8888\n",
      "Epoch 2/3\n",
      "1875/1875 [==============================] - 11s 6ms/step - loss: 0.2756 - accuracy: 0.9005 - val_loss: 0.2919 - val_accuracy: 0.8908\n",
      "Epoch 3/3\n",
      "1875/1875 [==============================] - 11s 6ms/step - loss: 0.2326 - accuracy: 0.9154 - val_loss: 0.2804 - val_accuracy: 0.8964\n",
      "Model: \"sequential_1\"\n",
      "_________________________________________________________________\n",
      " Layer (type)                Output Shape              Param #   \n",
      "=================================================================\n",
      " conv2d_1 (Conv2D)           (None, 28, 28, 32)        320       \n",
      "                                                                 \n",
      " max_pooling2d_1 (MaxPoolin  (None, 14, 14, 32)        0         \n",
      " g2D)                                                            \n",
      "                                                                 \n",
      " conv2d_2 (Conv2D)           (None, 14, 14, 32)        9248      \n",
      "                                                                 \n",
      " max_pooling2d_2 (MaxPoolin  (None, 7, 7, 32)          0         \n",
      " g2D)                                                            \n",
      "                                                                 \n",
      " flatten_1 (Flatten)         (None, 1568)              0         \n",
      "                                                                 \n",
      " dense_2 (Dense)             (None, 64)                100416    \n",
      "                                                                 \n",
      " dense_3 (Dense)             (None, 10)                650       \n",
      "                                                                 \n",
      "=================================================================\n",
      "Total params: 110634 (432.16 KB)\n",
      "Trainable params: 110634 (432.16 KB)\n",
      "Non-trainable params: 0 (0.00 Byte)\n",
      "_________________________________________________________________\n",
      "Epoch 1/3\n",
      "1875/1875 [==============================] - 14s 8ms/step - loss: 0.4392 - accuracy: 0.8414 - val_loss: 0.3326 - val_accuracy: 0.8806\n",
      "Epoch 2/3\n",
      "1875/1875 [==============================] - 14s 7ms/step - loss: 0.2914 - accuracy: 0.8940 - val_loss: 0.3163 - val_accuracy: 0.8891\n",
      "Epoch 3/3\n",
      "1875/1875 [==============================] - 14s 7ms/step - loss: 0.2465 - accuracy: 0.9101 - val_loss: 0.2640 - val_accuracy: 0.9023\n"
     ]
    },
    {
     "data": {
      "text/plain": [
       "<keras.src.callbacks.History at 0x215835691f0>"
      ]
     },
     "execution_count": 3,
     "metadata": {},
     "output_type": "execute_result"
    }
   ],
   "source": [
    "from tensorflow.keras.callbacks import TensorBoard\n",
    "import time\n",
    "# tensorboard에서 쓸 로그파일 생성\n",
    "# 앞으로 파일생성할때는 무조건 영어로/.......;;;\n",
    "tensorBoard = TensorBoard(log_dir = 'logs/{}/'.format('FirstModel' + str(timestamp)))\n",
    "#tensorBoard = TensorBoard(log_dir = 'logs')\n",
    "\n",
    "model.fit(trainX, trainY, validation_data=(testX, testY),epochs=3, callbacks=[tensorBoard])\n",
    "\n",
    "# ㅡㅡㅡㅡㅡㅡㅡㅡㅡㅡㅡㅡㅡㅡㅡㅡㅡㅡㅡㅡㅡㅡㅡㅡㅡㅡㅡㅡㅡㅡㅡㅡㅡㅡㅡㅡㅡㅡㅡㅡㅡㅡㅡㅡㅡㅡㅡㅡㅡㅡㅡ\n",
    "# 여러가지 변경되는 경우 비교 하는법\n",
    "# 함수로 만들던가 for문 돌리던가 하셈\n",
    "# 함수가 편할듯\n",
    "model = tf.keras.Sequential([\n",
    "    tf.keras.layers.Conv2D(32,(3,3), padding=\"same\", activation=\"relu\", input_shape = (28,28,1)),\n",
    "    tf.keras.layers.MaxPooling2D((2,2)),\n",
    "    tf.keras.layers.Conv2D(32,(3,3), padding=\"same\", activation=\"relu\", input_shape = (28,28,1)),\n",
    "    tf.keras.layers.MaxPooling2D((2,2)),\n",
    "    tf.keras.layers.Flatten(),\n",
    "    tf.keras.layers.Dense(64, activation=\"relu\"),\n",
    "    tf.keras.layers.Dense(10, activation=\"softmax\"),\n",
    "])\n",
    "\n",
    "model.summary()\n",
    "model.compile(loss=\"sparse_categorical_crossentropy\", optimizer=\"adam\", metrics=['accuracy'])\n",
    "tensorBoard = TensorBoard(log_dir = 'logs/{}/'.format('SecondModel' + str(timestamp)))\n",
    "#tensorBoard = TensorBoard(log_dir = 'logs')\n",
    "\n",
    "model.fit(trainX, trainY, validation_data=(testX, testY),epochs=3, callbacks=[tensorBoard])"
   ]
  },
  {
   "cell_type": "code",
   "execution_count": null,
   "metadata": {},
   "outputs": [],
   "source": [
    "# tensorboard 시각화 하기\n",
    "# tensorboard --logdir logs(터미널 창)"
   ]
  },
  {
   "cell_type": "code",
   "execution_count": null,
   "metadata": {},
   "outputs": [],
   "source": [
    "# early stop 하는법\n",
    "from tensorflow.keras.callbacks import EarlyStopping\n",
    "\n",
    "# val_loss에 3번 진전이 없으면 중단\n",
    "# 모드 확실시\n",
    "es = EarlyStopping(monitor = 'val_loss', patience=3, mode='min')\n",
    "model.fit(trainX, trainY, validation_data=(testX, testY),epochs=3, callbacks=[tensorBoard, es])"
   ]
  }
 ],
 "metadata": {
  "kernelspec": {
   "display_name": "Python 3",
   "language": "python",
   "name": "python3"
  },
  "language_info": {
   "codemirror_mode": {
    "name": "ipython",
    "version": 3
   },
   "file_extension": ".py",
   "mimetype": "text/x-python",
   "name": "python",
   "nbconvert_exporter": "python",
   "pygments_lexer": "ipython3",
   "version": "3.9.0"
  },
  "orig_nbformat": 4
 },
 "nbformat": 4,
 "nbformat_minor": 2
}
