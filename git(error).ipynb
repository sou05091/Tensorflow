{
 "cells": [
  {
   "cell_type": "markdown",
   "metadata": {},
   "source": [
    "큰 용량 아무생각없이 올리지 말자 (대비용)\n",
    "\n",
    "1. 큰 파일을 Git LFS로 추적하기 위해 사용한 명령어:\n",
    "\n",
    "```bash\n",
    "git lfs track \"dataset/cats.zip\"\n",
    "git lfs track \"dataset/dogs.zip\"\n",
    "```\n",
    "\n",
    "2. Git LFS로 처리된 큰 파일을 커밋하고 원격 저장소로 푸시하기 위해 사용한 명령어:\n",
    "\n",
    "```bash\n",
    "git add .gitattributes\n",
    "git commit -m \"Track large files with Git LFS and update .gitattributes\"\n",
    "git push origin main\n",
    "```\n",
    "\n",
    "3. 큰 파일을 원격 저장소에 강제로 푸시하려고 할 때 사용한 명령어:\n",
    "\n",
    "```bash\n",
    "git push origin main --force\n",
    "```\n",
    "\n",
    "4. 이전 커밋에서 큰 파일을 제거하기 위해 사용한 명령어(예시):\n",
    "\n",
    "```bash\n",
    "git filter-branch --index-filter 'git rm --cached --ignore-unmatch data/dogs-vs-cats-redux-kernels-edition.zip' --prune-empty HEAD\n",
    "```\n",
    "\n",
    "5. 이미 Git LFS로 처리된 파일을 재작성하여 커밋에서 큰 파일을 제거하기 위해 사용한 명령어(예시):\n",
    "\n",
    "```bash\n",
    "git filter-repo --invert-paths --subdirectory-filter data/dogs-vs-cats-redux-kernels-edition.zip\n",
    "```\n",
    "\n",
    "6. 재작성 후 변경된 기록을 원격 저장소에 강제로 푸시하기 위해 사용한 명령어:\n",
    "\n",
    "```bash\n",
    "git push <remote_name> --force --all\n",
    "```"
   ]
  }
 ],
 "metadata": {
  "language_info": {
   "name": "python"
  },
  "orig_nbformat": 4
 },
 "nbformat": 4,
 "nbformat_minor": 2
}
