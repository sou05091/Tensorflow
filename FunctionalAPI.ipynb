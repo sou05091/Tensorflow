{
 "cells": [
  {
   "cell_type": "code",
   "execution_count": null,
   "metadata": {},
   "outputs": [],
   "source": [
    "import tensorflow as tf\n",
    "import matplotlib.pyplot as plt\n",
    "import numpy as np\n",
    "\n",
    "# 데이터 불러오기\n",
    "(trainX, trainY),(testX, testY) = tf.keras.datasets.fashion_mnist.load_data()\n",
    "\n",
    "# 0~255숫자를 0~1숫자로 미리 압축\n",
    "# 결과가 좋게 나올수도 있고 처리 시간도 단축된다\n",
    "trainX = trainX/255.0\n",
    "testX = testX/255.0\n",
    "\n",
    "# 4dim으로 만들어주기 위해 변경\n",
    "# (trainX.shape[0],28,28) -> (trainX.shape[0],28,28,1) 이렇게 변경\n",
    "trainX = trainX.reshape((trainX.shape[0],28,28,1))\n",
    "testX = testX.reshape((testX.shape[0],28,28,1))\n",
    "\n",
    "\n",
    "class_names = ['T-shirt/top','Trouser','Pullover','Dress','Coat','Sandal','Shirt','Sneaker','Bag','Ankle','boot']\n",
    "\n",
    "model = tf.keras.Sequential([\n",
    "    tf.keras.layers.Conv2D(32,(3,3), padding=\"same\", activation=\"relu\", input_shape = (28,28,1)),\n",
    "    tf.keras.layers.MaxPooling2D((2,2)),\n",
    "    tf.keras.layers.Flatten(),\n",
    "    tf.keras.layers.Dense(64, activation=\"relu\"),\n",
    "    tf.keras.layers.Dense(10, activation=\"softmax\"),\n",
    "])\n",
    "\n",
    "# 모델 아웃라인 출력하기\n",
    "model.summary()\n",
    "model.compile(loss=\"sparse_categorical_crossentropy\", optimizer=\"adam\", metrics=['accuracy'])\n",
    "model.fit(trainX, trainY, validation_data=(testX, testY),epochs=5)"
   ]
  }
 ],
 "metadata": {
  "language_info": {
   "name": "python"
  },
  "orig_nbformat": 4
 },
 "nbformat": 4,
 "nbformat_minor": 2
}
